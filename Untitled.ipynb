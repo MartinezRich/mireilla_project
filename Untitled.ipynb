{
 "cells": [
  {
   "cell_type": "code",
   "execution_count": 11,
   "id": "97c6c3b1-7545-4cb5-b6c5-b1ab5ba64aee",
   "metadata": {},
   "outputs": [
    {
     "name": "stdin",
     "output_type": "stream",
     "text": [
      "Enter a number:  2\n"
     ]
    },
    {
     "data": {
      "text/plain": [
       "3"
      ]
     },
     "execution_count": 11,
     "metadata": {},
     "output_type": "execute_result"
    }
   ],
   "source": [
    "def get_number():\n",
    "    num = int(input('Enter a number: '))\n",
    "    return num\n",
    "def cal_number(num):\n",
    "    num += 1\n",
    "    return num\n",
    "num = get_number()\n",
    "num = cal_number(num)\n",
    "num"
   ]
  },
  {
   "cell_type": "code",
   "execution_count": 13,
   "id": "2784d128-8fbb-4cac-942f-13dcf1124662",
   "metadata": {},
   "outputs": [
    {
     "name": "stdout",
     "output_type": "stream",
     "text": [
      "0.Amy\n",
      "1.Tom\n",
      "2.Allen\n"
     ]
    }
   ],
   "source": [
    "names = ['Amy', 'Tom', 'Allen']\n",
    "for i, name in enumerate(names):\n",
    "    print(f'{i}.{name}')"
   ]
  },
  {
   "cell_type": "code",
   "execution_count": 17,
   "id": "91672592-5a0f-44d3-87b9-83e7f93c0984",
   "metadata": {},
   "outputs": [
    {
     "name": "stdout",
     "output_type": "stream",
     "text": [
      "apple\n"
     ]
    }
   ],
   "source": [
    "import random\n",
    "\n",
    "fruits = [\"apple\", \"banana\", \"orange\", \"grape\", \"pear\"]\n",
    "print(random.choice(fruits))"
   ]
  },
  {
   "cell_type": "code",
   "execution_count": 20,
   "id": "1530dfdb-4e49-4cfa-9be6-260ee186c839",
   "metadata": {},
   "outputs": [
    {
     "name": "stdin",
     "output_type": "stream",
     "text": [
      "pick a number:  5\n"
     ]
    },
    {
     "name": "stdout",
     "output_type": "stream",
     "text": [
      "too high\n"
     ]
    },
    {
     "name": "stdin",
     "output_type": "stream",
     "text": [
      "pick a second number:  4\n"
     ]
    },
    {
     "name": "stdout",
     "output_type": "stream",
     "text": [
      "You lose\n"
     ]
    }
   ],
   "source": [
    "import random \n",
    "\n",
    "random_num = random.randint(1, 5)\n",
    "guess = int(input('pick a number: '))\n",
    "if guess == random_num:\n",
    "    print('Well done')\n",
    "else:\n",
    "    print('too high' if guess > random_num else 'too low')\n",
    "    guess2 = int(input('pick a second number: '))\n",
    "    if guess2 == random_num:\n",
    "        print('Correct')\n",
    "    else:\n",
    "        print('You lose')"
   ]
  },
  {
   "cell_type": "code",
   "execution_count": 21,
   "id": "5e503d7d-bdad-486e-b964-41099de3e320",
   "metadata": {},
   "outputs": [],
   "source": [
    "import turtle\n",
    "t = turtle.Turtle()\n",
    "t.circle(50)\n",
    "turtle.done()"
   ]
  },
  {
   "cell_type": "code",
   "execution_count": 1,
   "id": "d6f65098-d05f-4225-b944-c5d6ab7759ab",
   "metadata": {},
   "outputs": [],
   "source": [
    "import turtle \n",
    "import random\n",
    "t = turtle.Turtle()\n",
    "colours = ['red', 'green', 'blue', 'yellow', 'purple', 'orange']\n",
    "for _ in range(8):\n",
    "    t.pencolor(random.choice(colours))\n",
    "    t.forward(100)\n",
    "    t.right(45)\n",
    "turtle.done()"
   ]
  },
  {
   "cell_type": "code",
   "execution_count": 2,
   "id": "679e84c9-2b89-47a4-9df5-e1a650e8cf60",
   "metadata": {},
   "outputs": [
    {
     "ename": "Terminator",
     "evalue": "",
     "output_type": "error",
     "traceback": [
      "\u001b[1;31m---------------------------------------------------------------------------\u001b[0m",
      "\u001b[1;31mTerminator\u001b[0m                                Traceback (most recent call last)",
      "Cell \u001b[1;32mIn[2], line 3\u001b[0m\n\u001b[0;32m      1\u001b[0m \u001b[38;5;28;01mimport\u001b[39;00m\u001b[38;5;250m \u001b[39m\u001b[38;5;21;01mturtle\u001b[39;00m\n\u001b[0;32m      2\u001b[0m \u001b[38;5;28;01mimport\u001b[39;00m\u001b[38;5;250m \u001b[39m\u001b[38;5;21;01mrandom\u001b[39;00m\n\u001b[1;32m----> 3\u001b[0m t \u001b[38;5;241m=\u001b[39m turtle\u001b[38;5;241m.\u001b[39mTurtle()\n\u001b[0;32m      4\u001b[0m num_lines \u001b[38;5;241m=\u001b[39m random\u001b[38;5;241m.\u001b[39mrandint(\u001b[38;5;241m5\u001b[39m, \u001b[38;5;241m20\u001b[39m)\n\u001b[0;32m      5\u001b[0m line_length \u001b[38;5;241m=\u001b[39m random\u001b[38;5;241m.\u001b[39mrandint(\u001b[38;5;241m20\u001b[39m, \u001b[38;5;241m100\u001b[39m)\n",
      "File \u001b[1;32mC:\\ProgramData\\anaconda3\\Lib\\turtle.py:3845\u001b[0m, in \u001b[0;36mTurtle.__init__\u001b[1;34m(self, shape, undobuffersize, visible)\u001b[0m\n\u001b[0;32m   3843\u001b[0m \u001b[38;5;28;01mif\u001b[39;00m Turtle\u001b[38;5;241m.\u001b[39m_screen \u001b[38;5;129;01mis\u001b[39;00m \u001b[38;5;28;01mNone\u001b[39;00m:\n\u001b[0;32m   3844\u001b[0m     Turtle\u001b[38;5;241m.\u001b[39m_screen \u001b[38;5;241m=\u001b[39m Screen()\n\u001b[1;32m-> 3845\u001b[0m RawTurtle\u001b[38;5;241m.\u001b[39m\u001b[38;5;21m__init__\u001b[39m(\u001b[38;5;28mself\u001b[39m, Turtle\u001b[38;5;241m.\u001b[39m_screen,\n\u001b[0;32m   3846\u001b[0m                    shape\u001b[38;5;241m=\u001b[39mshape,\n\u001b[0;32m   3847\u001b[0m                    undobuffersize\u001b[38;5;241m=\u001b[39mundobuffersize,\n\u001b[0;32m   3848\u001b[0m                    visible\u001b[38;5;241m=\u001b[39mvisible)\n",
      "File \u001b[1;32mC:\\ProgramData\\anaconda3\\Lib\\turtle.py:2564\u001b[0m, in \u001b[0;36mRawTurtle.__init__\u001b[1;34m(self, canvas, shape, undobuffersize, visible)\u001b[0m\n\u001b[0;32m   2562\u001b[0m \u001b[38;5;28mself\u001b[39m\u001b[38;5;241m.\u001b[39m_undobuffersize \u001b[38;5;241m=\u001b[39m undobuffersize\n\u001b[0;32m   2563\u001b[0m \u001b[38;5;28mself\u001b[39m\u001b[38;5;241m.\u001b[39mundobuffer \u001b[38;5;241m=\u001b[39m Tbuffer(undobuffersize)\n\u001b[1;32m-> 2564\u001b[0m \u001b[38;5;28mself\u001b[39m\u001b[38;5;241m.\u001b[39m_update()\n",
      "File \u001b[1;32mC:\\ProgramData\\anaconda3\\Lib\\turtle.py:2667\u001b[0m, in \u001b[0;36mRawTurtle._update\u001b[1;34m(self)\u001b[0m\n\u001b[0;32m   2665\u001b[0m     \u001b[38;5;28;01mreturn\u001b[39;00m\n\u001b[0;32m   2666\u001b[0m \u001b[38;5;28;01melif\u001b[39;00m screen\u001b[38;5;241m.\u001b[39m_tracing \u001b[38;5;241m==\u001b[39m \u001b[38;5;241m1\u001b[39m:\n\u001b[1;32m-> 2667\u001b[0m     \u001b[38;5;28mself\u001b[39m\u001b[38;5;241m.\u001b[39m_update_data()\n\u001b[0;32m   2668\u001b[0m     \u001b[38;5;28mself\u001b[39m\u001b[38;5;241m.\u001b[39m_drawturtle()\n\u001b[0;32m   2669\u001b[0m     screen\u001b[38;5;241m.\u001b[39m_update()                  \u001b[38;5;66;03m# TurtleScreenBase\u001b[39;00m\n",
      "File \u001b[1;32mC:\\ProgramData\\anaconda3\\Lib\\turtle.py:2653\u001b[0m, in \u001b[0;36mRawTurtle._update_data\u001b[1;34m(self)\u001b[0m\n\u001b[0;32m   2652\u001b[0m \u001b[38;5;28;01mdef\u001b[39;00m\u001b[38;5;250m \u001b[39m\u001b[38;5;21m_update_data\u001b[39m(\u001b[38;5;28mself\u001b[39m):\n\u001b[1;32m-> 2653\u001b[0m     \u001b[38;5;28mself\u001b[39m\u001b[38;5;241m.\u001b[39mscreen\u001b[38;5;241m.\u001b[39m_incrementudc()\n\u001b[0;32m   2654\u001b[0m     \u001b[38;5;28;01mif\u001b[39;00m \u001b[38;5;28mself\u001b[39m\u001b[38;5;241m.\u001b[39mscreen\u001b[38;5;241m.\u001b[39m_updatecounter \u001b[38;5;241m!=\u001b[39m \u001b[38;5;241m0\u001b[39m:\n\u001b[0;32m   2655\u001b[0m         \u001b[38;5;28;01mreturn\u001b[39;00m\n",
      "File \u001b[1;32mC:\\ProgramData\\anaconda3\\Lib\\turtle.py:1283\u001b[0m, in \u001b[0;36mTurtleScreen._incrementudc\u001b[1;34m(self)\u001b[0m\n\u001b[0;32m   1281\u001b[0m \u001b[38;5;28;01mif\u001b[39;00m \u001b[38;5;129;01mnot\u001b[39;00m TurtleScreen\u001b[38;5;241m.\u001b[39m_RUNNING:\n\u001b[0;32m   1282\u001b[0m     TurtleScreen\u001b[38;5;241m.\u001b[39m_RUNNING \u001b[38;5;241m=\u001b[39m \u001b[38;5;28;01mTrue\u001b[39;00m\n\u001b[1;32m-> 1283\u001b[0m     \u001b[38;5;28;01mraise\u001b[39;00m Terminator\n\u001b[0;32m   1284\u001b[0m \u001b[38;5;28;01mif\u001b[39;00m \u001b[38;5;28mself\u001b[39m\u001b[38;5;241m.\u001b[39m_tracing \u001b[38;5;241m>\u001b[39m \u001b[38;5;241m0\u001b[39m:\n\u001b[0;32m   1285\u001b[0m     \u001b[38;5;28mself\u001b[39m\u001b[38;5;241m.\u001b[39m_updatecounter \u001b[38;5;241m+\u001b[39m\u001b[38;5;241m=\u001b[39m \u001b[38;5;241m1\u001b[39m\n",
      "\u001b[1;31mTerminator\u001b[0m: "
     ]
    }
   ],
   "source": [
    "import turtle\n",
    "import random\n",
    "t = turtle.Turtle()\n",
    "num_lines = random.randint(5, 20)\n",
    "line_length = random.randint(20, 100)\n",
    "angle = random.randint(10, 60)\n",
    "for _ in range(num_lines):\n",
    "    t.forward(line_length)\n",
    "    t.right(angle)\n",
    "turtle.done()"
   ]
  },
  {
   "cell_type": "code",
   "execution_count": null,
   "id": "f32e9eba-8150-4115-a65d-4a57b98f63ac",
   "metadata": {},
   "outputs": [],
   "source": []
  },
  {
   "cell_type": "code",
   "execution_count": null,
   "id": "3450629c-1e52-4f06-821e-88cce911f2d4",
   "metadata": {},
   "outputs": [],
   "source": []
  }
 ],
 "metadata": {
  "kernelspec": {
   "display_name": "Python 3 (ipykernel)",
   "language": "python",
   "name": "python3"
  },
  "language_info": {
   "codemirror_mode": {
    "name": "ipython",
    "version": 3
   },
   "file_extension": ".py",
   "mimetype": "text/x-python",
   "name": "python",
   "nbconvert_exporter": "python",
   "pygments_lexer": "ipython3",
   "version": "3.13.5"
  }
 },
 "nbformat": 4,
 "nbformat_minor": 5
}
